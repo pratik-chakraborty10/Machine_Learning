{
  "metadata": {
    "kernelspec": {
      "language": "python",
      "display_name": "Python 3",
      "name": "python3"
    },
    "language_info": {
      "name": "python",
      "version": "3.10.13",
      "mimetype": "text/x-python",
      "codemirror_mode": {
        "name": "ipython",
        "version": 3
      },
      "pygments_lexer": "ipython3",
      "nbconvert_exporter": "python",
      "file_extension": ".py"
    },
    "kaggle": {
      "accelerator": "none",
      "dataSources": [
        {
          "sourceId": 2311467,
          "sourceType": "datasetVersion",
          "datasetId": 1394586
        }
      ],
      "dockerImageVersionId": 30698,
      "isInternetEnabled": false,
      "language": "python",
      "sourceType": "notebook",
      "isGpuEnabled": false
    },
    "colab": {
      "name": "FeatureScaling(Standardization)",
      "provenance": [],
      "include_colab_link": true
    }
  },
  "nbformat_minor": 0,
  "nbformat": 4,
  "cells": [
    {
      "cell_type": "markdown",
      "metadata": {
        "id": "view-in-github",
        "colab_type": "text"
      },
      "source": [
        "<a href=\"https://colab.research.google.com/github/pratik-chakraborty10/Machine_Learning/blob/main/FeatureScaling(Standardization).ipynb\" target=\"_parent\"><img src=\"https://colab.research.google.com/assets/colab-badge.svg\" alt=\"Open In Colab\"/></a>"
      ]
    },
    {
      "source": [
        "\n",
        "# IMPORTANT: RUN THIS CELL IN ORDER TO IMPORT YOUR KAGGLE DATA SOURCES\n",
        "# TO THE CORRECT LOCATION (/kaggle/input) IN YOUR NOTEBOOK,\n",
        "# THEN FEEL FREE TO DELETE THIS CELL.\n",
        "# NOTE: THIS NOTEBOOK ENVIRONMENT DIFFERS FROM KAGGLE'S PYTHON\n",
        "# ENVIRONMENT SO THERE MAY BE MISSING LIBRARIES USED BY YOUR\n",
        "# NOTEBOOK.\n",
        "\n",
        "import os\n",
        "import sys\n",
        "from tempfile import NamedTemporaryFile\n",
        "from urllib.request import urlopen\n",
        "from urllib.parse import unquote, urlparse\n",
        "from urllib.error import HTTPError\n",
        "from zipfile import ZipFile\n",
        "import tarfile\n",
        "import shutil\n",
        "\n",
        "CHUNK_SIZE = 40960\n",
        "DATA_SOURCE_MAPPING = 'social-network-ads:https%3A%2F%2Fstorage.googleapis.com%2Fkaggle-data-sets%2F1394586%2F2311467%2Fbundle%2Farchive.zip%3FX-Goog-Algorithm%3DGOOG4-RSA-SHA256%26X-Goog-Credential%3Dgcp-kaggle-com%2540kaggle-161607.iam.gserviceaccount.com%252F20240528%252Fauto%252Fstorage%252Fgoog4_request%26X-Goog-Date%3D20240528T083110Z%26X-Goog-Expires%3D259200%26X-Goog-SignedHeaders%3Dhost%26X-Goog-Signature%3D18c7259d65578ccaf2eda85adf92a8e6515930190fa692dd94dab2b84539e124e0ce1247fa8a26d5760fb13310883a1ce510cdd4aa1c19f72eb60bf6dd420562fe0bbc62bf1a7f8771394a07ec52bbd418dcab3833abf78594ae7c48db4c98f7dd7516da2959ab9ff43ef9e7ec9e81040cc7ff0ccc2aa994b72df17e6c747b2630d639014f04026c566a2150013f5e100e967d7e371ea6bee5fd64ca1218617d0e560b326887442b70b9c6a65c27fa5384eacdecc4aaa962239cac4cdfbaef40c957cd604a600dedfb07a17c0aa591285178bb651784014248efb3a1fa9b105d810d1babbe7115b8a1ec723b71095565fd2dc05dbcee9f70d08818767d654a3f'\n",
        "\n",
        "KAGGLE_INPUT_PATH='/kaggle/input'\n",
        "KAGGLE_WORKING_PATH='/kaggle/working'\n",
        "KAGGLE_SYMLINK='kaggle'\n",
        "\n",
        "!umount /kaggle/input/ 2> /dev/null\n",
        "shutil.rmtree('/kaggle/input', ignore_errors=True)\n",
        "os.makedirs(KAGGLE_INPUT_PATH, 0o777, exist_ok=True)\n",
        "os.makedirs(KAGGLE_WORKING_PATH, 0o777, exist_ok=True)\n",
        "\n",
        "try:\n",
        "  os.symlink(KAGGLE_INPUT_PATH, os.path.join(\"..\", 'input'), target_is_directory=True)\n",
        "except FileExistsError:\n",
        "  pass\n",
        "try:\n",
        "  os.symlink(KAGGLE_WORKING_PATH, os.path.join(\"..\", 'working'), target_is_directory=True)\n",
        "except FileExistsError:\n",
        "  pass\n",
        "\n",
        "for data_source_mapping in DATA_SOURCE_MAPPING.split(','):\n",
        "    directory, download_url_encoded = data_source_mapping.split(':')\n",
        "    download_url = unquote(download_url_encoded)\n",
        "    filename = urlparse(download_url).path\n",
        "    destination_path = os.path.join(KAGGLE_INPUT_PATH, directory)\n",
        "    try:\n",
        "        with urlopen(download_url) as fileres, NamedTemporaryFile() as tfile:\n",
        "            total_length = fileres.headers['content-length']\n",
        "            print(f'Downloading {directory}, {total_length} bytes compressed')\n",
        "            dl = 0\n",
        "            data = fileres.read(CHUNK_SIZE)\n",
        "            while len(data) > 0:\n",
        "                dl += len(data)\n",
        "                tfile.write(data)\n",
        "                done = int(50 * dl / int(total_length))\n",
        "                sys.stdout.write(f\"\\r[{'=' * done}{' ' * (50-done)}] {dl} bytes downloaded\")\n",
        "                sys.stdout.flush()\n",
        "                data = fileres.read(CHUNK_SIZE)\n",
        "            if filename.endswith('.zip'):\n",
        "              with ZipFile(tfile) as zfile:\n",
        "                zfile.extractall(destination_path)\n",
        "            else:\n",
        "              with tarfile.open(tfile.name) as tarfile:\n",
        "                tarfile.extractall(destination_path)\n",
        "            print(f'\\nDownloaded and uncompressed: {directory}')\n",
        "    except HTTPError as e:\n",
        "        print(f'Failed to load (likely expired) {download_url} to path {destination_path}')\n",
        "        continue\n",
        "    except OSError as e:\n",
        "        print(f'Failed to load {download_url} to path {destination_path}')\n",
        "        continue\n",
        "\n",
        "print('Data source import complete.')\n"
      ],
      "metadata": {
        "id": "4I1hwiJVUzGX"
      },
      "cell_type": "code",
      "outputs": [],
      "execution_count": null
    },
    {
      "cell_type": "code",
      "source": [
        "# This Python 3 environment comes with many helpful analytics libraries installed\n",
        "# It is defined by the kaggle/python Docker image: https://github.com/kaggle/docker-python\n",
        "# For example, here's several helpful packages to load\n",
        "\n",
        "import numpy as np # linear algebra\n",
        "import pandas as pd # data processing, CSV file I/O (e.g. pd.read_csv)\n",
        "\n",
        "# Input data files are available in the read-only \"../input/\" directory\n",
        "# For example, running this (by clicking run or pressing Shift+Enter) will list all files under the input directory\n",
        "\n",
        "import os\n",
        "for dirname, _, filenames in os.walk('/kaggle/input'):\n",
        "    for filename in filenames:\n",
        "        print(os.path.join(dirname, filename))\n",
        "\n",
        "# You can write up to 20GB to the current directory (/kaggle/working/) that gets preserved as output when you create a version using \"Save & Run All\"\n",
        "# You can also write temporary files to /kaggle/temp/, but they won't be saved outside of the current session"
      ],
      "metadata": {
        "_uuid": "8f2839f25d086af736a60e9eeb907d3b93b6e0e5",
        "_cell_guid": "b1076dfc-b9ad-4769-8c92-a6c4dae69d19",
        "execution": {
          "iopub.status.busy": "2024-05-28T08:20:37.725298Z",
          "iopub.execute_input": "2024-05-28T08:20:37.72586Z",
          "iopub.status.idle": "2024-05-28T08:20:37.736295Z",
          "shell.execute_reply.started": "2024-05-28T08:20:37.725819Z",
          "shell.execute_reply": "2024-05-28T08:20:37.734943Z"
        },
        "trusted": true,
        "id": "CKleh7cjUzGa",
        "outputId": "82704583-8d05-4727-d5f2-53eabd44c444"
      },
      "execution_count": null,
      "outputs": [
        {
          "name": "stdout",
          "text": "/kaggle/input/social-network-ads/Social_Network_Ads.csv\n",
          "output_type": "stream"
        }
      ]
    },
    {
      "cell_type": "code",
      "source": [
        "import pandas as pd\n",
        "import seaborn as sns\n",
        "import matplotlib.pyplot as plt\n",
        "import numpy as np"
      ],
      "metadata": {
        "execution": {
          "iopub.status.busy": "2024-05-28T08:20:37.73899Z",
          "iopub.execute_input": "2024-05-28T08:20:37.739472Z",
          "iopub.status.idle": "2024-05-28T08:20:37.748884Z",
          "shell.execute_reply.started": "2024-05-28T08:20:37.739429Z",
          "shell.execute_reply": "2024-05-28T08:20:37.747271Z"
        },
        "trusted": true,
        "id": "H3CuLRbgUzGb"
      },
      "execution_count": null,
      "outputs": []
    },
    {
      "cell_type": "code",
      "source": [
        "import pandas as pd\n",
        "import os\n",
        "\n",
        "directory_path = '/kaggle/input/social-network-ads'\n",
        "files = os.listdir(directory_path)\n",
        "print(files)\n",
        "\n",
        "\n",
        "csv_file_path = os.path.join(directory_path, 'Social_Network_Ads.csv')\n",
        "\n",
        "# Read the CSV file\n",
        "df = pd.read_csv(csv_file_path)\n",
        "\n",
        "# Display the first few rows of the dataframe to verify\n",
        "print(df.head())\n"
      ],
      "metadata": {
        "execution": {
          "iopub.status.busy": "2024-05-28T08:20:37.750806Z",
          "iopub.execute_input": "2024-05-28T08:20:37.751282Z",
          "iopub.status.idle": "2024-05-28T08:20:37.768592Z",
          "shell.execute_reply.started": "2024-05-28T08:20:37.751242Z",
          "shell.execute_reply": "2024-05-28T08:20:37.766895Z"
        },
        "trusted": true,
        "id": "ZoYr1RjFUzGc",
        "outputId": "b7350672-fe8d-4f80-9b31-77e396cd781e"
      },
      "execution_count": null,
      "outputs": [
        {
          "name": "stdout",
          "text": "['Social_Network_Ads.csv']\n   Age  EstimatedSalary  Purchased\n0   19            19000          0\n1   35            20000          0\n2   26            43000          0\n3   27            57000          0\n4   19            76000          0\n",
          "output_type": "stream"
        }
      ]
    },
    {
      "cell_type": "code",
      "source": [
        "# Dividing the dataset into X and y\n",
        "X = df[['Age', 'EstimatedSalary']]\n",
        "y = df['Purchased']"
      ],
      "metadata": {
        "execution": {
          "iopub.status.busy": "2024-05-28T08:20:37.824869Z",
          "iopub.execute_input": "2024-05-28T08:20:37.825286Z",
          "iopub.status.idle": "2024-05-28T08:20:37.832242Z",
          "shell.execute_reply.started": "2024-05-28T08:20:37.825252Z",
          "shell.execute_reply": "2024-05-28T08:20:37.83082Z"
        },
        "trusted": true,
        "id": "e8EZ9izmUzGd"
      },
      "execution_count": null,
      "outputs": []
    },
    {
      "cell_type": "code",
      "source": [
        "from sklearn.model_selection import train_test_split\n",
        "X_train,X_test,y_train,y_test=train_test_split(X,y,test_size=0.3,random_state=42)\n",
        "X_train.shape,X_test.shape"
      ],
      "metadata": {
        "execution": {
          "iopub.status.busy": "2024-05-28T08:20:37.834902Z",
          "iopub.execute_input": "2024-05-28T08:20:37.835314Z",
          "iopub.status.idle": "2024-05-28T08:20:37.847965Z",
          "shell.execute_reply.started": "2024-05-28T08:20:37.835282Z",
          "shell.execute_reply": "2024-05-28T08:20:37.846578Z"
        },
        "trusted": true,
        "id": "PtMYa7C7UzGd",
        "outputId": "2daae1c9-f927-4d40-bf38-6bebe9bf553b"
      },
      "execution_count": null,
      "outputs": [
        {
          "execution_count": 50,
          "output_type": "execute_result",
          "data": {
            "text/plain": "((280, 2), (120, 2))"
          },
          "metadata": {}
        }
      ]
    },
    {
      "cell_type": "markdown",
      "source": [],
      "metadata": {
        "id": "2wiJ2EyXUzGe"
      }
    },
    {
      "cell_type": "markdown",
      "source": [
        "**Standard Scalar******"
      ],
      "metadata": {
        "id": "_40eTyCHUzGf"
      }
    },
    {
      "cell_type": "code",
      "source": [
        "from sklearn.preprocessing import StandardScaler\n",
        "scalar=StandardScaler()\n",
        "\n",
        "#fit the train data\n",
        "scalar.fit(X_train)\n",
        "\n",
        "#transform both the train and test set\n",
        "X_train_scaled = scalar.transform(X_train)\n",
        "X_test_scaled  = scalar.transform(X_test)"
      ],
      "metadata": {
        "execution": {
          "iopub.status.busy": "2024-05-28T08:20:37.849633Z",
          "iopub.execute_input": "2024-05-28T08:20:37.850044Z",
          "iopub.status.idle": "2024-05-28T08:20:37.862611Z",
          "shell.execute_reply.started": "2024-05-28T08:20:37.850013Z",
          "shell.execute_reply": "2024-05-28T08:20:37.861091Z"
        },
        "trusted": true,
        "id": "Bl-y0ngIUzGg"
      },
      "execution_count": null,
      "outputs": []
    },
    {
      "cell_type": "code",
      "source": [
        "scalar.mean_"
      ],
      "metadata": {
        "execution": {
          "iopub.status.busy": "2024-05-28T08:20:37.864401Z",
          "iopub.execute_input": "2024-05-28T08:20:37.86542Z",
          "iopub.status.idle": "2024-05-28T08:20:37.878363Z",
          "shell.execute_reply.started": "2024-05-28T08:20:37.865384Z",
          "shell.execute_reply": "2024-05-28T08:20:37.876647Z"
        },
        "trusted": true,
        "id": "aOmjk7RqUzGg",
        "outputId": "22476935-21ed-4e82-a7f8-b074c7f4cf57"
      },
      "execution_count": null,
      "outputs": [
        {
          "execution_count": 52,
          "output_type": "execute_result",
          "data": {
            "text/plain": "array([3.75750000e+01, 7.05892857e+04])"
          },
          "metadata": {}
        }
      ]
    },
    {
      "cell_type": "code",
      "source": [
        "X_train_scaled = pd.DataFrame(X_train_scaled,columns=X_train.columns)\n",
        "X_test_scaled=pd.DataFrame(X_test_scaled,columns=X_test.columns)\n",
        "\n",
        "X_train_scaled\n",
        "X_test_scaled"
      ],
      "metadata": {
        "execution": {
          "iopub.status.busy": "2024-05-28T08:20:37.908935Z",
          "iopub.execute_input": "2024-05-28T08:20:37.909382Z",
          "iopub.status.idle": "2024-05-28T08:20:37.925207Z",
          "shell.execute_reply.started": "2024-05-28T08:20:37.909348Z",
          "shell.execute_reply": "2024-05-28T08:20:37.923623Z"
        },
        "trusted": true,
        "id": "ivkNWQ94UzGh",
        "outputId": "77433179-f8ab-4b5f-dd4d-77332631a387"
      },
      "execution_count": null,
      "outputs": [
        {
          "execution_count": 53,
          "output_type": "execute_result",
          "data": {
            "text/plain": "          Age  EstimatedSalary\n0    0.827784        -1.433827\n1    2.105076         0.513775\n2   -0.940775        -0.784626\n3    1.024290         0.749848\n4   -0.842522        -1.256772\n..        ...              ...\n115 -1.039028        -1.492845\n116 -1.137281        -1.581373\n117 -0.056496         0.661320\n118  0.434771        -0.489535\n119 -0.253002        -0.282971\n\n[120 rows x 2 columns]",
            "text/html": "<div>\n<style scoped>\n    .dataframe tbody tr th:only-of-type {\n        vertical-align: middle;\n    }\n\n    .dataframe tbody tr th {\n        vertical-align: top;\n    }\n\n    .dataframe thead th {\n        text-align: right;\n    }\n</style>\n<table border=\"1\" class=\"dataframe\">\n  <thead>\n    <tr style=\"text-align: right;\">\n      <th></th>\n      <th>Age</th>\n      <th>EstimatedSalary</th>\n    </tr>\n  </thead>\n  <tbody>\n    <tr>\n      <th>0</th>\n      <td>0.827784</td>\n      <td>-1.433827</td>\n    </tr>\n    <tr>\n      <th>1</th>\n      <td>2.105076</td>\n      <td>0.513775</td>\n    </tr>\n    <tr>\n      <th>2</th>\n      <td>-0.940775</td>\n      <td>-0.784626</td>\n    </tr>\n    <tr>\n      <th>3</th>\n      <td>1.024290</td>\n      <td>0.749848</td>\n    </tr>\n    <tr>\n      <th>4</th>\n      <td>-0.842522</td>\n      <td>-1.256772</td>\n    </tr>\n    <tr>\n      <th>...</th>\n      <td>...</td>\n      <td>...</td>\n    </tr>\n    <tr>\n      <th>115</th>\n      <td>-1.039028</td>\n      <td>-1.492845</td>\n    </tr>\n    <tr>\n      <th>116</th>\n      <td>-1.137281</td>\n      <td>-1.581373</td>\n    </tr>\n    <tr>\n      <th>117</th>\n      <td>-0.056496</td>\n      <td>0.661320</td>\n    </tr>\n    <tr>\n      <th>118</th>\n      <td>0.434771</td>\n      <td>-0.489535</td>\n    </tr>\n    <tr>\n      <th>119</th>\n      <td>-0.253002</td>\n      <td>-0.282971</td>\n    </tr>\n  </tbody>\n</table>\n<p>120 rows × 2 columns</p>\n</div>"
          },
          "metadata": {}
        }
      ]
    },
    {
      "cell_type": "code",
      "source": [
        "np.round(X_train_scaled.describe(),1) # after scaling"
      ],
      "metadata": {
        "execution": {
          "iopub.status.busy": "2024-05-28T08:20:37.928257Z",
          "iopub.execute_input": "2024-05-28T08:20:37.928778Z",
          "iopub.status.idle": "2024-05-28T08:20:37.955436Z",
          "shell.execute_reply.started": "2024-05-28T08:20:37.928732Z",
          "shell.execute_reply": "2024-05-28T08:20:37.954226Z"
        },
        "trusted": true,
        "id": "sM1jy0lwUzGh",
        "outputId": "3ea01ce4-de0b-4801-895a-a62e23f4fe38"
      },
      "execution_count": null,
      "outputs": [
        {
          "execution_count": 54,
          "output_type": "execute_result",
          "data": {
            "text/plain": "         Age  EstimatedSalary\ncount  280.0            280.0\nmean    -0.0              0.0\nstd      1.0              1.0\nmin     -1.9             -1.6\n25%     -0.7             -0.8\n50%     -0.1              0.0\n75%      0.7              0.5\nmax      2.2              2.3",
            "text/html": "<div>\n<style scoped>\n    .dataframe tbody tr th:only-of-type {\n        vertical-align: middle;\n    }\n\n    .dataframe tbody tr th {\n        vertical-align: top;\n    }\n\n    .dataframe thead th {\n        text-align: right;\n    }\n</style>\n<table border=\"1\" class=\"dataframe\">\n  <thead>\n    <tr style=\"text-align: right;\">\n      <th></th>\n      <th>Age</th>\n      <th>EstimatedSalary</th>\n    </tr>\n  </thead>\n  <tbody>\n    <tr>\n      <th>count</th>\n      <td>280.0</td>\n      <td>280.0</td>\n    </tr>\n    <tr>\n      <th>mean</th>\n      <td>-0.0</td>\n      <td>0.0</td>\n    </tr>\n    <tr>\n      <th>std</th>\n      <td>1.0</td>\n      <td>1.0</td>\n    </tr>\n    <tr>\n      <th>min</th>\n      <td>-1.9</td>\n      <td>-1.6</td>\n    </tr>\n    <tr>\n      <th>25%</th>\n      <td>-0.7</td>\n      <td>-0.8</td>\n    </tr>\n    <tr>\n      <th>50%</th>\n      <td>-0.1</td>\n      <td>0.0</td>\n    </tr>\n    <tr>\n      <th>75%</th>\n      <td>0.7</td>\n      <td>0.5</td>\n    </tr>\n    <tr>\n      <th>max</th>\n      <td>2.2</td>\n      <td>2.3</td>\n    </tr>\n  </tbody>\n</table>\n</div>"
          },
          "metadata": {}
        }
      ]
    },
    {
      "cell_type": "code",
      "source": [
        "np.round(X_train.describe(),1) #before scaling"
      ],
      "metadata": {
        "execution": {
          "iopub.status.busy": "2024-05-28T08:20:37.958013Z",
          "iopub.execute_input": "2024-05-28T08:20:37.958554Z",
          "iopub.status.idle": "2024-05-28T08:20:37.982589Z",
          "shell.execute_reply.started": "2024-05-28T08:20:37.958487Z",
          "shell.execute_reply": "2024-05-28T08:20:37.980997Z"
        },
        "trusted": true,
        "id": "s-rteuoVUzGi",
        "outputId": "e5e41487-6aac-41e5-c1a9-51e616e9dda3"
      },
      "execution_count": null,
      "outputs": [
        {
          "execution_count": 55,
          "output_type": "execute_result",
          "data": {
            "text/plain": "         Age  EstimatedSalary\ncount  280.0            280.0\nmean    37.6          70589.3\nstd     10.2          33948.5\nmin     18.0          15000.0\n25%     30.0          44000.0\n50%     37.0          71000.0\n75%     45.0          88000.0\nmax     60.0         150000.0",
            "text/html": "<div>\n<style scoped>\n    .dataframe tbody tr th:only-of-type {\n        vertical-align: middle;\n    }\n\n    .dataframe tbody tr th {\n        vertical-align: top;\n    }\n\n    .dataframe thead th {\n        text-align: right;\n    }\n</style>\n<table border=\"1\" class=\"dataframe\">\n  <thead>\n    <tr style=\"text-align: right;\">\n      <th></th>\n      <th>Age</th>\n      <th>EstimatedSalary</th>\n    </tr>\n  </thead>\n  <tbody>\n    <tr>\n      <th>count</th>\n      <td>280.0</td>\n      <td>280.0</td>\n    </tr>\n    <tr>\n      <th>mean</th>\n      <td>37.6</td>\n      <td>70589.3</td>\n    </tr>\n    <tr>\n      <th>std</th>\n      <td>10.2</td>\n      <td>33948.5</td>\n    </tr>\n    <tr>\n      <th>min</th>\n      <td>18.0</td>\n      <td>15000.0</td>\n    </tr>\n    <tr>\n      <th>25%</th>\n      <td>30.0</td>\n      <td>44000.0</td>\n    </tr>\n    <tr>\n      <th>50%</th>\n      <td>37.0</td>\n      <td>71000.0</td>\n    </tr>\n    <tr>\n      <th>75%</th>\n      <td>45.0</td>\n      <td>88000.0</td>\n    </tr>\n    <tr>\n      <th>max</th>\n      <td>60.0</td>\n      <td>150000.0</td>\n    </tr>\n  </tbody>\n</table>\n</div>"
          },
          "metadata": {}
        }
      ]
    },
    {
      "cell_type": "code",
      "source": [
        "# Original data plot\n",
        "plt.subplot(1, 2, 1)\n",
        "plt.scatter(X_train['Age'], y_train, color='blue', label='Original')\n",
        "plt.xlabel('Age')\n",
        "plt.ylabel('Purchased')\n",
        "plt.title('Original Data')\n",
        "plt.legend()\n",
        "\n",
        "# Scaled data plot\n",
        "plt.subplot(1, 2, 2)\n",
        "plt.scatter(X_train_scaled['Age'], y_train, color='red', label='Scaled')\n",
        "plt.xlabel('Age')\n",
        "plt.ylabel('Purchased')\n",
        "plt.title('Scaled Data')\n",
        "plt.legend()\n",
        "\n",
        "plt.show()\n"
      ],
      "metadata": {
        "execution": {
          "iopub.status.busy": "2024-05-28T08:20:37.984277Z",
          "iopub.execute_input": "2024-05-28T08:20:37.984767Z",
          "iopub.status.idle": "2024-05-28T08:20:38.55411Z",
          "shell.execute_reply.started": "2024-05-28T08:20:37.984723Z",
          "shell.execute_reply": "2024-05-28T08:20:38.552806Z"
        },
        "trusted": true,
        "id": "JnwSlYyjUzGi",
        "outputId": "88008bf5-a901-4803-cc19-6d5d1af7ef3c"
      },
      "execution_count": null,
      "outputs": [
        {
          "output_type": "display_data",
          "data": {
            "text/plain": "<Figure size 640x480 with 2 Axes>",
            "image/png": "[encoded data removed]"
          },
          "metadata": {}
        }
      ]
    },
    {
      "cell_type": "markdown",
      "source": [
        "**Why Scaling is important???**"
      ],
      "metadata": {
        "id": "GCNy5NQ-UzGi"
      }
    },
    {
      "cell_type": "code",
      "source": [
        "from sklearn.linear_model import LogisticRegression\n"
      ],
      "metadata": {
        "execution": {
          "iopub.status.busy": "2024-05-28T08:20:38.557084Z",
          "iopub.execute_input": "2024-05-28T08:20:38.557437Z",
          "iopub.status.idle": "2024-05-28T08:20:38.56311Z",
          "shell.execute_reply.started": "2024-05-28T08:20:38.557409Z",
          "shell.execute_reply": "2024-05-28T08:20:38.561619Z"
        },
        "trusted": true,
        "id": "eoVl3dtOUzGi"
      },
      "execution_count": null,
      "outputs": []
    },
    {
      "cell_type": "code",
      "source": [
        "lr=LogisticRegression()\n",
        "lr_scaled=LogisticRegression()"
      ],
      "metadata": {
        "execution": {
          "iopub.status.busy": "2024-05-28T08:20:38.564952Z",
          "iopub.execute_input": "2024-05-28T08:20:38.565412Z",
          "iopub.status.idle": "2024-05-28T08:20:38.574102Z",
          "shell.execute_reply.started": "2024-05-28T08:20:38.565369Z",
          "shell.execute_reply": "2024-05-28T08:20:38.572962Z"
        },
        "trusted": true,
        "id": "m645HJ5YUzGi"
      },
      "execution_count": null,
      "outputs": []
    },
    {
      "cell_type": "code",
      "source": [
        "lr.fit(X_train,y_train)\n",
        "lr_scaled.fit(X_train_scaled,y_train)"
      ],
      "metadata": {
        "execution": {
          "iopub.status.busy": "2024-05-28T08:20:38.575788Z",
          "iopub.execute_input": "2024-05-28T08:20:38.57615Z",
          "iopub.status.idle": "2024-05-28T08:20:38.605236Z",
          "shell.execute_reply.started": "2024-05-28T08:20:38.576117Z",
          "shell.execute_reply": "2024-05-28T08:20:38.603945Z"
        },
        "trusted": true,
        "id": "Uqho-nRXUzGj",
        "outputId": "61b7bd95-a71b-4e8d-ce46-a62dbb958781"
      },
      "execution_count": null,
      "outputs": [
        {
          "execution_count": 59,
          "output_type": "execute_result",
          "data": {
            "text/plain": "LogisticRegression()",
            "text/html": "<style>#sk-container-id-2 {color: black;background-color: white;}#sk-container-id-2 pre{padding: 0;}#sk-container-id-2 div.sk-toggleable {background-color: white;}#sk-container-id-2 label.sk-toggleable__label {cursor: pointer;display: block;width: 100%;margin-bottom: 0;padding: 0.3em;box-sizing: border-box;text-align: center;}#sk-container-id-2 label.sk-toggleable__label-arrow:before {content: \"▸\";float: left;margin-right: 0.25em;color: #696969;}#sk-container-id-2 label.sk-toggleable__label-arrow:hover:before {color: black;}#sk-container-id-2 div.sk-estimator:hover label.sk-toggleable__label-arrow:before {color: black;}#sk-container-id-2 div.sk-toggleable__content {max-height: 0;max-width: 0;overflow: hidden;text-align: left;background-color: #f0f8ff;}#sk-container-id-2 div.sk-toggleable__content pre {margin: 0.2em;color: black;border-radius: 0.25em;background-color: #f0f8ff;}#sk-container-id-2 input.sk-toggleable__control:checked~div.sk-toggleable__content {max-height: 200px;max-width: 100%;overflow: auto;}#sk-container-id-2 input.sk-toggleable__control:checked~label.sk-toggleable__label-arrow:before {content: \"▾\";}#sk-container-id-2 div.sk-estimator input.sk-toggleable__control:checked~label.sk-toggleable__label {background-color: #d4ebff;}#sk-container-id-2 div.sk-label input.sk-toggleable__control:checked~label.sk-toggleable__label {background-color: #d4ebff;}#sk-container-id-2 input.sk-hidden--visually {border: 0;clip: rect(1px 1px 1px 1px);clip: rect(1px, 1px, 1px, 1px);height: 1px;margin: -1px;overflow: hidden;padding: 0;position: absolute;width: 1px;}#sk-container-id-2 div.sk-estimator {font-family: monospace;background-color: #f0f8ff;border: 1px dotted black;border-radius: 0.25em;box-sizing: border-box;margin-bottom: 0.5em;}#sk-container-id-2 div.sk-estimator:hover {background-color: #d4ebff;}#sk-container-id-2 div.sk-parallel-item::after {content: \"\";width: 100%;border-bottom: 1px solid gray;flex-grow: 1;}#sk-container-id-2 div.sk-label:hover label.sk-toggleable__label {background-color: #d4ebff;}#sk-container-id-2 div.sk-serial::before {content: \"\";position: absolute;border-left: 1px solid gray;box-sizing: border-box;top: 0;bottom: 0;left: 50%;z-index: 0;}#sk-container-id-2 div.sk-serial {display: flex;flex-direction: column;align-items: center;background-color: white;padding-right: 0.2em;padding-left: 0.2em;position: relative;}#sk-container-id-2 div.sk-item {position: relative;z-index: 1;}#sk-container-id-2 div.sk-parallel {display: flex;align-items: stretch;justify-content: center;background-color: white;position: relative;}#sk-container-id-2 div.sk-item::before, #sk-container-id-2 div.sk-parallel-item::before {content: \"\";position: absolute;border-left: 1px solid gray;box-sizing: border-box;top: 0;bottom: 0;left: 50%;z-index: -1;}#sk-container-id-2 div.sk-parallel-item {display: flex;flex-direction: column;z-index: 1;position: relative;background-color: white;}#sk-container-id-2 div.sk-parallel-item:first-child::after {align-self: flex-end;width: 50%;}#sk-container-id-2 div.sk-parallel-item:last-child::after {align-self: flex-start;width: 50%;}#sk-container-id-2 div.sk-parallel-item:only-child::after {width: 0;}#sk-container-id-2 div.sk-dashed-wrapped {border: 1px dashed gray;margin: 0 0.4em 0.5em 0.4em;box-sizing: border-box;padding-bottom: 0.4em;background-color: white;}#sk-container-id-2 div.sk-label label {font-family: monospace;font-weight: bold;display: inline-block;line-height: 1.2em;}#sk-container-id-2 div.sk-label-container {text-align: center;}#sk-container-id-2 div.sk-container {/* jupyter's `normalize.less` sets `[hidden] { display: none; }` but bootstrap.min.css set `[hidden] { display: none !important; }` so we also need the `!important` here to be able to override the default hidden behavior on the sphinx rendered scikit-learn.org. See: https://github.com/scikit-learn/scikit-learn/issues/21755 */display: inline-block !important;position: relative;}#sk-container-id-2 div.sk-text-repr-fallback {display: none;}</style><div id=\"sk-container-id-2\" class=\"sk-top-container\"><div class=\"sk-text-repr-fallback\"><pre>LogisticRegression()</pre><b>In a Jupyter environment, please rerun this cell to show the HTML representation or trust the notebook. <br />On GitHub, the HTML representation is unable to render, please try loading this page with nbviewer.org.</b></div><div class=\"sk-container\" hidden><div class=\"sk-item\"><div class=\"sk-estimator sk-toggleable\"><input class=\"sk-toggleable__control sk-hidden--visually\" id=\"sk-estimator-id-2\" type=\"checkbox\" checked><label for=\"sk-estimator-id-2\" class=\"sk-toggleable__label sk-toggleable__label-arrow\">LogisticRegression</label><div class=\"sk-toggleable__content\"><pre>LogisticRegression()</pre></div></div></div></div></div>"
          },
          "metadata": {}
        }
      ]
    },
    {
      "cell_type": "code",
      "source": [
        "y_pred=lr.predict(X_test)\n",
        "y_pred_scaled=lr_scaled.predict(X_test_scaled)"
      ],
      "metadata": {
        "execution": {
          "iopub.status.busy": "2024-05-28T08:20:38.607054Z",
          "iopub.execute_input": "2024-05-28T08:20:38.607634Z",
          "iopub.status.idle": "2024-05-28T08:20:38.617265Z",
          "shell.execute_reply.started": "2024-05-28T08:20:38.607521Z",
          "shell.execute_reply": "2024-05-28T08:20:38.615799Z"
        },
        "trusted": true,
        "id": "Gcx_QdIMUzGj"
      },
      "execution_count": null,
      "outputs": []
    },
    {
      "cell_type": "code",
      "source": [
        "from sklearn.metrics import accuracy_score"
      ],
      "metadata": {
        "execution": {
          "iopub.status.busy": "2024-05-28T08:20:38.620745Z",
          "iopub.execute_input": "2024-05-28T08:20:38.621112Z",
          "iopub.status.idle": "2024-05-28T08:20:38.627241Z",
          "shell.execute_reply.started": "2024-05-28T08:20:38.621083Z",
          "shell.execute_reply": "2024-05-28T08:20:38.625833Z"
        },
        "trusted": true,
        "id": "Y2PcFtWfUzGj"
      },
      "execution_count": null,
      "outputs": []
    },
    {
      "cell_type": "code",
      "source": [
        "print(\"Actual: \",accuracy_score(y_test,y_pred))\n",
        "print(\"Scaled: \",accuracy_score(y_test,y_pred_scaled))\n",
        "\n",
        "# after scaling the accuracy score is high."
      ],
      "metadata": {
        "execution": {
          "iopub.status.busy": "2024-05-28T08:20:38.6287Z",
          "iopub.execute_input": "2024-05-28T08:20:38.629055Z",
          "iopub.status.idle": "2024-05-28T08:20:38.644055Z",
          "shell.execute_reply.started": "2024-05-28T08:20:38.629027Z",
          "shell.execute_reply": "2024-05-28T08:20:38.642767Z"
        },
        "trusted": true,
        "id": "Mpbgi1RMUzGj",
        "outputId": "ab4630cd-2d82-47ed-9485-ae3dcc593ed7"
      },
      "execution_count": null,
      "outputs": [
        {
          "name": "stdout",
          "text": "Actual:  0.6083333333333333\nScaled:  0.85\n",
          "output_type": "stream"
        }
      ]
    }
  ]
}